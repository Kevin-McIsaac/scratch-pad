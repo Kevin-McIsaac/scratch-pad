{
 "cells": [
  {
   "cell_type": "code",
   "execution_count": 1,
   "metadata": {},
   "outputs": [
    {
     "data": {
      "text/plain": [
       "41481"
      ]
     },
     "execution_count": 1,
     "metadata": {},
     "output_type": "execute_result"
    }
   ],
   "source": [
    "# Let's count the total number of words in the provided PDF document.\n",
    "from PyPDF2 import PdfReader\n",
    "\n",
    "def count_words_in_pdf(file_path):\n",
    "    reader = PdfReader(file_path)\n",
    "    total_words = 0\n",
    "    for page in reader.pages:\n",
    "        text = page.extract_text()\n",
    "        if text:\n",
    "            total_words += len(text.split())\n",
    "    return total_words\n",
    "\n",
    "# Count the total number of words in the ANZ PDF document\n",
    "pdf_file_path = \"mPal/ANZ.pdf\"\n",
    "word_count = count_words_in_pdf(pdf_file_path)\n",
    "word_count\n"
   ]
  },
  {
   "cell_type": "code",
   "execution_count": null,
   "metadata": {},
   "outputs": [],
   "source": []
  }
 ],
 "metadata": {
  "kernelspec": {
   "display_name": ".venv",
   "language": "python",
   "name": "python3"
  },
  "language_info": {
   "codemirror_mode": {
    "name": "ipython",
    "version": 3
   },
   "file_extension": ".py",
   "mimetype": "text/x-python",
   "name": "python",
   "nbconvert_exporter": "python",
   "pygments_lexer": "ipython3",
   "version": "3.11.2"
  }
 },
 "nbformat": 4,
 "nbformat_minor": 2
}
